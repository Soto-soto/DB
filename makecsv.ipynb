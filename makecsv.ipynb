{
 "cells": [
  {
   "cell_type": "code",
   "execution_count": 1,
   "metadata": {},
   "outputs": [],
   "source": [
    "import random\n",
    "import csv"
   ]
  },
  {
   "cell_type": "code",
   "execution_count": 2,
   "metadata": {},
   "outputs": [],
   "source": [
    "b_list = ['AA','BB','CC','DD','EE','FF','GG','HH','II','JJ','KK','LL','MM','NN']"
   ]
  },
  {
   "cell_type": "code",
   "execution_count": 3,
   "metadata": {},
   "outputs": [],
   "source": [
    "c_list = [\"male\",\"female\"]"
   ]
  },
  {
   "cell_type": "code",
   "execution_count": 4,
   "metadata": {},
   "outputs": [],
   "source": [
    "with open('test.csv', 'w') as csvfile:\n",
    "    writer = csv.writer(csvfile, lineterminator='\\n')\n",
    "    for i in range(10):\n",
    "        writer.writerow({})"
   ]
  },
  {
   "cell_type": "code",
   "execution_count": 5,
   "metadata": {},
   "outputs": [],
   "source": [
    "file_name = \"data.csv\"\n",
    "\n",
    "try:\n",
    "    file = open(file_name, 'w')\n",
    "    for i in range(10000000):\n",
    "        data = str(random.choice(range(1,30001)))+\",\"+str(random.choice(b_list))+\",\"+str(random.choice(c_list)+\"\\n\")\n",
    "        file.write(data)\n",
    "except Exception as e:\n",
    "    print(e,\"エラー\")\n",
    "finally:\n",
    "    file.close()\n"
   ]
  },
  {
   "cell_type": "code",
   "execution_count": null,
   "metadata": {},
   "outputs": [],
   "source": []
  }
 ],
 "metadata": {
  "kernelspec": {
   "display_name": "Python 3",
   "language": "python",
   "name": "python3"
  },
  "language_info": {
   "codemirror_mode": {
    "name": "ipython",
    "version": 3
   },
   "file_extension": ".py",
   "mimetype": "text/x-python",
   "name": "python",
   "nbconvert_exporter": "python",
   "pygments_lexer": "ipython3",
   "version": "3.6.5"
  }
 },
 "nbformat": 4,
 "nbformat_minor": 2
}
